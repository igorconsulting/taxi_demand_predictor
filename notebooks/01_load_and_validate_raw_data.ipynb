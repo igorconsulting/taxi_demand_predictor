{
 "cells": [
  {
   "cell_type": "code",
   "execution_count": null,
   "metadata": {},
   "outputs": [
    {
     "name": "stdout",
     "output_type": "stream",
     "text": [
      "yellow_tripdata_2021-01.parquet downloaded successfully\n",
      "yellow_tripdata_2021-02.parquet downloaded successfully\n",
      "yellow_tripdata_2021-03.parquet downloaded successfully\n"
     ]
    }
   ],
   "source": [
    "# fetch the file from the server\n",
    "\n",
    "import requests\n",
    "import sys\n",
    "from pathlib import Path\n",
    "\n",
    "def fetch_raw_data(url, file_name, repo_dir='../data/raw'):\n",
    "    response = requests.get(url)\n",
    "\n",
    "    if response.status_code == 200:\n",
    "        Path(repo_dir).mkdir(parents=True, exist_ok=True)\n",
    "        with open(f'{repo_dir}/{file_name}', 'wb') as f:\n",
    "            f.write(response.content)\n",
    "        print(f'{file_name} downloaded successfully')\n",
    "    else:\n",
    "        raise Exception(f'Status code error: {response.status_code} - File not available!')\n",
    "\n",
    "def download_yellow_monthly_data(year, month):\n",
    "    url = f'https://d37ci6vzurychx.cloudfront.net/trip-data/yellow_tripdata_{year}-{month}.parquet'\n",
    "    file_name = f'yellow_tripdata_{year}-{month}.parquet'\n",
    "    fetch_raw_data(url, file_name)\n",
    "\n",
    "def download_green_monthly_data(year, month):\n",
    "    url = f'https://d37ci6vzurychx.cloudfront.net/trip-data/green_tripdata_{year}-{month}.parquet'\n",
    "    file_name = f'green_tripdata_{year}-{month}.parquet'\n",
    "    fetch_raw_data(url, file_name)\n",
    "\n",
    "def download_fhv_monthly_data(year, month):\n",
    "    url = f'https://d37ci6vzurychx.cloudfront.net/trip-data/fhv_tripdata_{year}-{month}.parquet'\n",
    "    file_name = f'fhv_tripdata_{year}-{month}.parquet'\n",
    "    fetch_raw_data(url, file_name)\n",
    "\n",
    "def download_fhvhv_monthly_data(year, month):\n",
    "    url = f'https://d37ci6vzurychx.cloudfront.net/trip-data/fhvhv_tripdata_{year}-{month}.parquet'\n",
    "    file_name = f'fhvhv_tripdata_{year}-{month}.parquet'\n",
    "    fetch_raw_data(url, file_name)\n",
    "\n",
    "def taxi_data_api(year, month):\n",
    "    download_yellow_monthly_data(year, month)\n",
    "    #download_green_monthly_data(year, month)\n",
    "    #download_fhv_monthly_data(year, month)\n",
    "    #download_fhvhv_monthly_data(year, month)\n",
    "\n",
    "if __name__ == '__main__':\n",
    "    years = ['2021', '2022', '2023']\n",
    "    months = ['01', '02', '03', '04', '05', '06', '07', '08', '09', '10', '11', '12']\n",
    "\n",
    "    for year in years:\n",
    "        for month in months:\n",
    "            taxi_data_api(year, month)\n"
   ]
  },
  {
   "cell_type": "code",
   "execution_count": 1,
   "metadata": {},
   "outputs": [],
   "source": [
    "columns = [\n",
    "    'VendorID', 'tpep_pickup_datetime', 'tpep_dropoff_datetime', 'passenger_count', 'trip_distance', 'RatecodeID', 'store_and_fwd_flag', 'PULocationID', 'DOLocationID', 'payment_type', 'fare_amount', 'extra', 'mta_tax', 'tip_amount', 'tolls_amount', 'improvement_surcharge', 'total_amount', 'congestion_surcharge'\n",
    "    ]\n",
    "\n"
   ]
  }
 ],
 "metadata": {
  "kernelspec": {
   "display_name": "src-k1b3gFX9-py3.10",
   "language": "python",
   "name": "python3"
  },
  "language_info": {
   "codemirror_mode": {
    "name": "ipython",
    "version": 3
   },
   "file_extension": ".py",
   "mimetype": "text/x-python",
   "name": "python",
   "nbconvert_exporter": "python",
   "pygments_lexer": "ipython3",
   "version": "3.10.12"
  }
 },
 "nbformat": 4,
 "nbformat_minor": 2
}
