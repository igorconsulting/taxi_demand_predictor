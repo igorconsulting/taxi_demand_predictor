{
 "cells": [
  {
   "cell_type": "code",
   "execution_count": 30,
   "metadata": {},
   "outputs": [],
   "source": [
    "import src.config\n",
    "from datetime import datetime, timedelta\n",
    "\n",
    "import pandas as pd\n",
    "\n",
    "current_date = pd.to_datetime(datetime.now().date()).floor('h')\n",
    "fetch_data_from = current_date - timedelta(days=1)\n",
    "fetch_data_to = current_date"
   ]
  },
  {
   "cell_type": "code",
   "execution_count": 33,
   "metadata": {},
   "outputs": [],
   "source": [
    "# simulate a call to a datawerehouse\n",
    "from src.load import load_raw_data\n",
    "from src.paths import YELLOW, GREEN, FHV, FHVHV\n",
    "\n",
    "def fetch_batch_raw_data(from_date: datetime, to_date:datetime) ->pd.DataFrame:\n",
    "    \"\"\"\n",
    "    Simulate production data by sampling historical data from 52 weeks ago (i.e. 1 year)\n",
    "    \"\"\"\n",
    "    from_date_ = from_date - timedelta(days=7*52)\n",
    "    to_date_ = to_date - timedelta(days=7*52)\n",
    "    print(f'{from_date=}, {to_date_=}')\n",
    "    \n",
    "    # download 2 files from website\n",
    "    for path in [YELLOW]:#, GREEN, FHV, FHVHV]:\n",
    "        rides = load_raw_data(path,year=from_date_.year, months=from_date_.month)\n",
    "        rides = rides[rides.pickup_datetime >= from_date_]\n",
    "        rides_2 = load_raw_data(path,year=to_date_.year, months=to_date_.month)\n",
    "        rides_2 = rides_2[rides_2.pickup_datetime < to_date_]\n",
    "    \n",
    "    \n",
    "\n",
    "    rides = pd.concat([rides, rides_2])\n",
    "\n",
    "    # shift the data to pretend this is recent data\n",
    "    rides['pickup_datetime'] += timedelta(days=7*52)\n",
    "\n",
    "    rides.sort_values(by=['pickup_location_id', 'pickup_datetime'], inplace=True)\n",
    "\n",
    "    return rides"
   ]
  },
  {
   "cell_type": "code",
   "execution_count": null,
   "metadata": {},
   "outputs": [],
   "source": []
  },
  {
   "cell_type": "code",
   "execution_count": null,
   "metadata": {},
   "outputs": [
    {
     "name": "stdout",
     "output_type": "stream",
     "text": [
      "The autoreload extension is already loaded. To reload it, use:\n",
      "  %reload_ext autoreload\n",
      "File 2022-01 was already in local storage\n"
     ]
    }
   ],
   "source": [
    "\n",
    "\n",
    "from src.load import load_raw_data\n",
    "from src.paths import YELLOW\n",
    "\n",
    "data = load_raw_data(PATH=YELLOW, year=2022, months=[1])\n"
   ]
  },
  {
   "cell_type": "code",
   "execution_count": 28,
   "metadata": {},
   "outputs": [
    {
     "data": {
      "text/html": [
       "<div>\n",
       "<style scoped>\n",
       "    .dataframe tbody tr th:only-of-type {\n",
       "        vertical-align: middle;\n",
       "    }\n",
       "\n",
       "    .dataframe tbody tr th {\n",
       "        vertical-align: top;\n",
       "    }\n",
       "\n",
       "    .dataframe thead th {\n",
       "        text-align: right;\n",
       "    }\n",
       "</style>\n",
       "<table border=\"1\" class=\"dataframe\">\n",
       "  <thead>\n",
       "    <tr style=\"text-align: right;\">\n",
       "      <th></th>\n",
       "      <th>pickup_datetime</th>\n",
       "      <th>pickup_location_id</th>\n",
       "    </tr>\n",
       "  </thead>\n",
       "  <tbody>\n",
       "    <tr>\n",
       "      <th>0</th>\n",
       "      <td>2022-01-01 00:35:40</td>\n",
       "      <td>142</td>\n",
       "    </tr>\n",
       "    <tr>\n",
       "      <th>1</th>\n",
       "      <td>2022-01-01 00:33:43</td>\n",
       "      <td>236</td>\n",
       "    </tr>\n",
       "    <tr>\n",
       "      <th>2</th>\n",
       "      <td>2022-01-01 00:53:21</td>\n",
       "      <td>166</td>\n",
       "    </tr>\n",
       "    <tr>\n",
       "      <th>3</th>\n",
       "      <td>2022-01-01 00:25:21</td>\n",
       "      <td>114</td>\n",
       "    </tr>\n",
       "    <tr>\n",
       "      <th>4</th>\n",
       "      <td>2022-01-01 00:36:48</td>\n",
       "      <td>68</td>\n",
       "    </tr>\n",
       "    <tr>\n",
       "      <th>...</th>\n",
       "      <td>...</td>\n",
       "      <td>...</td>\n",
       "    </tr>\n",
       "    <tr>\n",
       "      <th>2463926</th>\n",
       "      <td>2022-01-31 23:36:53</td>\n",
       "      <td>90</td>\n",
       "    </tr>\n",
       "    <tr>\n",
       "      <th>2463927</th>\n",
       "      <td>2022-01-31 23:44:22</td>\n",
       "      <td>107</td>\n",
       "    </tr>\n",
       "    <tr>\n",
       "      <th>2463928</th>\n",
       "      <td>2022-01-31 23:39:00</td>\n",
       "      <td>113</td>\n",
       "    </tr>\n",
       "    <tr>\n",
       "      <th>2463929</th>\n",
       "      <td>2022-01-31 23:36:42</td>\n",
       "      <td>148</td>\n",
       "    </tr>\n",
       "    <tr>\n",
       "      <th>2463930</th>\n",
       "      <td>2022-01-31 23:46:00</td>\n",
       "      <td>186</td>\n",
       "    </tr>\n",
       "  </tbody>\n",
       "</table>\n",
       "<p>2463879 rows × 2 columns</p>\n",
       "</div>"
      ],
      "text/plain": [
       "            pickup_datetime  pickup_location_id\n",
       "0       2022-01-01 00:35:40                 142\n",
       "1       2022-01-01 00:33:43                 236\n",
       "2       2022-01-01 00:53:21                 166\n",
       "3       2022-01-01 00:25:21                 114\n",
       "4       2022-01-01 00:36:48                  68\n",
       "...                     ...                 ...\n",
       "2463926 2022-01-31 23:36:53                  90\n",
       "2463927 2022-01-31 23:44:22                 107\n",
       "2463928 2022-01-31 23:39:00                 113\n",
       "2463929 2022-01-31 23:36:42                 148\n",
       "2463930 2022-01-31 23:46:00                 186\n",
       "\n",
       "[2463879 rows x 2 columns]"
      ]
     },
     "execution_count": 28,
     "metadata": {},
     "output_type": "execute_result"
    }
   ],
   "source": [
    "data"
   ]
  },
  {
   "cell_type": "code",
   "execution_count": 35,
   "metadata": {},
   "outputs": [
    {
     "name": "stdout",
     "output_type": "stream",
     "text": [
      "from_date=Timestamp('2024-11-03 00:00:00'), to_date_=Timestamp('2023-11-06 00:00:00')\n",
      "File 2023-11 was already in local storage\n",
      "File 2023-11 was already in local storage\n"
     ]
    }
   ],
   "source": [
    "rides = fetch_batch_raw_data(fetch_data_from, fetch_data_to)"
   ]
  },
  {
   "cell_type": "code",
   "execution_count": 44,
   "metadata": {},
   "outputs": [],
   "source": [
    "def get_dot_position(pattern):\n",
    "    dot='.'\n",
    "    dot_position_list = [position for position,char in enumerate(pattern) if char==dot]\n",
    "\n",
    "    return dot_position_list\n",
    "\n",
    "def match_word(word,pattern):\n",
    "    is_match = False\n",
    "    if len(word) != len(pattern):\n",
    "        return is_match\n",
    "\n",
    "    dot_position_list = get_dot_position(pattern)\n",
    "\n",
    "    \n",
    "    for position in range(len(word)):\n",
    "        if position not in dot_position_list:\n",
    "            if word[position] == pattern[position]:\n",
    "                is_match = True\n",
    "            else:\n",
    "                is_match = False\n",
    "    \n",
    "    return is_match\n",
    "\n",
    "\n",
    "\n",
    "def wordsPatternsMatch(words, patterns):\n",
    "    match_list = []\n",
    "\n",
    "    for pattern in patterns:\n",
    "        for word in words:\n",
    "            if match_word(word,pattern):\n",
    "                if pattern not in match_list:\n",
    "                    match_list.append(pattern)\n",
    "    return match_list"
   ]
  },
  {
   "cell_type": "code",
   "execution_count": 49,
   "metadata": {},
   "outputs": [],
   "source": [
    "def bracket_lists(str):\n",
    "\n",
    "    bracket_list = [(pos,char) for pos,char in enumerate(str) if char=='{' or char =='}']\n",
    "    parent_list = [(pos,char) for pos,char in enumerate(str) if char=='(' or char == ')']\n",
    "    colch_list = [(pos,char) for pos,char in enumerate(str) if char=='[' or char == ']']\n",
    "\n",
    "    return bracket_list,parent_list,colch_list"
   ]
  },
  {
   "cell_type": "code",
   "execution_count": 52,
   "metadata": {},
   "outputs": [
    {
     "name": "stdout",
     "output_type": "stream",
     "text": [
      "False\n"
     ]
    }
   ],
   "source": [
    "def isValid(s: str):\n",
    "    bracket_map = {\n",
    "        '}':'{',\n",
    "        ']': '[',\n",
    "        ')': '('\n",
    "    }\n",
    "    stack = []\n",
    "\n",
    "    for char in s:\n",
    "        if char in bracket_map.values():\n",
    "            stack.append(char)\n",
    "        \n",
    "        elif char in bracket_map.keys():\n",
    "            if bracket_map[char] != stack.pop() or stack == []:\n",
    "                return False\n",
    "\n",
    "    return len(stack) == 0\n",
    "\n",
    "# Exemplo de uso:\n",
    "s = \"a{b(c)d}e\"\n",
    "print(isValid(s))  # Output: True"
   ]
  },
  {
   "cell_type": "code",
   "execution_count": 56,
   "metadata": {},
   "outputs": [],
   "source": [
    "import heapq\n",
    "\n",
    "def min_cost_to_destination(grid, amount):\n",
    "    n, m = len(grid), len(grid[0])  # Dimensões da grade\n",
    "    directions = [(1, 0), (0, 1), (1, 1)]  # Movimentos: baixo, direita, diagonal\n",
    "\n",
    "    # Matriz para armazenar o menor custo para cada célula\n",
    "    min_cost = [[float('inf')] * m for _ in range(n)]\n",
    "    min_cost[0][0] = grid[0][0]\n",
    "\n",
    "    # Fila de prioridade para explorar caminhos de menor custo primeiro\n",
    "    heap = [(grid[0][0], 0, 0)]  # (custo acumulado, x, y)\n",
    "\n",
    "    while heap:\n",
    "        current_cost, x, y = heapq.heappop(heap)\n",
    "\n",
    "        # Se alcançamos o destino\n",
    "        if (x, y) == (n - 1, m - 1):\n",
    "            remaining_budget = amount - current_cost\n",
    "            return remaining_budget if remaining_budget >= 0 else -1\n",
    "\n",
    "        # Explorar os movimentos possíveis\n",
    "        for dx, dy in directions:\n",
    "            nx, ny = x + dx, y + dy\n",
    "\n",
    "            # Verificar se está dentro dos limites da matriz\n",
    "            if 0 <= nx < n and 0 <= ny < m:\n",
    "                new_cost = current_cost + grid[nx][ny]\n",
    "\n",
    "                # Se encontramos um caminho de menor custo para a célula (nx, ny)\n",
    "                if new_cost < min_cost[nx][ny]:\n",
    "                    min_cost[nx][ny] = new_cost\n",
    "                    heapq.heappush(heap, (new_cost, nx, ny))\n",
    "\n",
    "    # Se não alcançamos o destino dentro do orçamento\n",
    "    return -1\n"
   ]
  },
  {
   "cell_type": "code",
   "execution_count": 58,
   "metadata": {},
   "outputs": [],
   "source": [
    "from collections import deque\n",
    "\n",
    "def min_cost_to_destination(grid, amount):\n",
    "    n, m = len(grid), len(grid[0])  # Dimensões da grade\n",
    "    directions = [(1, 0), (0, 1), (1, 1)]  # Movimentos: baixo, direita, diagonal\n",
    "\n",
    "    # Matriz para armazenar o menor custo para cada célula\n",
    "    min_cost = [[float('inf')] * m for _ in range(n)]\n",
    "    min_cost[0][0] = grid[0][0]\n",
    "\n",
    "    # Fila de busca em largura com controle do custo acumulado\n",
    "    queue = deque([(grid[0][0], 0, 0)])  # (custo acumulado, x, y)\n",
    "\n",
    "    while queue:\n",
    "        current_cost, x, y = queue.popleft()\n",
    "\n",
    "        # Se alcançamos o destino\n",
    "        if (x, y) == (n - 1, m - 1):\n",
    "            remaining_budget = amount - current_cost\n",
    "            return remaining_budget if remaining_budget >= 0 else -1\n",
    "\n",
    "        # Explorar os movimentos possíveis\n",
    "        for dx, dy in directions:\n",
    "            nx, ny = x + dx, y + dy\n",
    "\n",
    "            # Verificar se está dentro dos limites da matriz\n",
    "            if 0 <= nx < n and 0 <= ny < m:\n",
    "                new_cost = current_cost + grid[nx][ny]\n",
    "\n",
    "                # Se encontramos um caminho de menor custo para a célula (nx, ny)\n",
    "                if new_cost < min_cost[nx][ny]:\n",
    "                    min_cost[nx][ny] = new_cost\n",
    "                    queue.append((new_cost, nx, ny))\n",
    "\n",
    "    # Se não alcançamos o destino dentro do orçamento\n",
    "    return -1\n"
   ]
  },
  {
   "cell_type": "code",
   "execution_count": 59,
   "metadata": {},
   "outputs": [
    {
     "name": "stdout",
     "output_type": "stream",
     "text": [
      "4\n"
     ]
    }
   ],
   "source": [
    "grid = [\n",
    "    [1, 3, 1],\n",
    "    [1, 5, 1],\n",
    "    [4, 2, 0]\n",
    "]\n",
    "amount = 10\n",
    "\n",
    "print(min_cost_to_destination(grid, amount))"
   ]
  }
 ],
 "metadata": {
  "kernelspec": {
   "display_name": "src-k1b3gFX9-py3.10",
   "language": "python",
   "name": "python3"
  },
  "language_info": {
   "codemirror_mode": {
    "name": "ipython",
    "version": 3
   },
   "file_extension": ".py",
   "mimetype": "text/x-python",
   "name": "python",
   "nbconvert_exporter": "python",
   "pygments_lexer": "ipython3",
   "version": "3.10.12"
  }
 },
 "nbformat": 4,
 "nbformat_minor": 2
}
