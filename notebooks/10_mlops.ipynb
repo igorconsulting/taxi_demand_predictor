{
 "cells": [
  {
   "cell_type": "markdown",
   "metadata": {},
   "source": [
    "# MLOps\n",
    "\n",
    "parquet file ->(raw data) -> Data Preparation ->(features),(targets) -> Model Training -> (artifact) -> ML model"
   ]
  }
 ],
 "metadata": {
  "language_info": {
   "name": "python"
  }
 },
 "nbformat": 4,
 "nbformat_minor": 2
}
